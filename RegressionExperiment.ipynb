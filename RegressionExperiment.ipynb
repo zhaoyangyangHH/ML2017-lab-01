{
 "cells": [
  {
   "cell_type": "code",
   "execution_count": 1,
   "metadata": {
    "collapsed": true
   },
   "outputs": [],
   "source": [
    "#Improt\n",
    "\n",
    "from sklearn.externals.joblib import Memory\n",
    "from sklearn.datasets import load_svmlight_file\n",
    "import matplotlib.pyplot as plt\n",
    "import numpy as np\n",
    "from sklearn.model_selection import train_test_split"
   ]
  },
  {
   "cell_type": "code",
   "execution_count": 2,
   "metadata": {},
   "outputs": [
    {
     "name": "stdout",
     "output_type": "stream",
     "text": [
      "house data is:  (<506x13 sparse matrix of type '<class 'numpy.float64'>'\n",
      "\twith 6578 stored elements in Compressed Sparse Row format>, array([ 24. ,  21.6,  34.7,  33.4,  36.2,  28.7,  22.9,  27.1,  16.5,\n",
      "        18.9,  15. ,  18.9,  21.7,  20.4,  18.2,  19.9,  23.1,  17.5,\n",
      "        20.2,  18.2,  13.6,  19.6,  15.2,  14.5,  15.6,  13.9,  16.6,\n",
      "        14.8,  18.4,  21. ,  12.7,  14.5,  13.2,  13.1,  13.5,  18.9,\n",
      "        20. ,  21. ,  24.7,  30.8,  34.9,  26.6,  25.3,  24.7,  21.2,\n",
      "        19.3,  20. ,  16.6,  14.4,  19.4,  19.7,  20.5,  25. ,  23.4,\n",
      "        18.9,  35.4,  24.7,  31.6,  23.3,  19.6,  18.7,  16. ,  22.2,\n",
      "        25. ,  33. ,  23.5,  19.4,  22. ,  17.4,  20.9,  24.2,  21.7,\n",
      "        22.8,  23.4,  24.1,  21.4,  20. ,  20.8,  21.2,  20.3,  28. ,\n",
      "        23.9,  24.8,  22.9,  23.9,  26.6,  22.5,  22.2,  23.6,  28.7,\n",
      "        22.6,  22. ,  22.9,  25. ,  20.6,  28.4,  21.4,  38.7,  43.8,\n",
      "        33.2,  27.5,  26.5,  18.6,  19.3,  20.1,  19.5,  19.5,  20.4,\n",
      "        19.8,  19.4,  21.7,  22.8,  18.8,  18.7,  18.5,  18.3,  21.2,\n",
      "        19.2,  20.4,  19.3,  22. ,  20.3,  20.5,  17.3,  18.8,  21.4,\n",
      "        15.7,  16.2,  18. ,  14.3,  19.2,  19.6,  23. ,  18.4,  15.6,\n",
      "        18.1,  17.4,  17.1,  13.3,  17.8,  14. ,  14.4,  13.4,  15.6,\n",
      "        11.8,  13.8,  15.6,  14.6,  17.8,  15.4,  21.5,  19.6,  15.3,\n",
      "        19.4,  17. ,  15.6,  13.1,  41.3,  24.3,  23.3,  27. ,  50. ,\n",
      "        50. ,  50. ,  22.7,  25. ,  50. ,  23.8,  23.8,  22.3,  17.4,\n",
      "        19.1,  23.1,  23.6,  22.6,  29.4,  23.2,  24.6,  29.9,  37.2,\n",
      "        39.8,  36.2,  37.9,  32.5,  26.4,  29.6,  50. ,  32. ,  29.8,\n",
      "        34.9,  37. ,  30.5,  36.4,  31.1,  29.1,  50. ,  33.3,  30.3,\n",
      "        34.6,  34.9,  32.9,  24.1,  42.3,  48.5,  50. ,  22.6,  24.4,\n",
      "        22.5,  24.4,  20. ,  21.7,  19.3,  22.4,  28.1,  23.7,  25. ,\n",
      "        23.3,  28.7,  21.5,  23. ,  26.7,  21.7,  27.5,  30.1,  44.8,\n",
      "        50. ,  37.6,  31.6,  46.7,  31.5,  24.3,  31.7,  41.7,  48.3,\n",
      "        29. ,  24. ,  25.1,  31.5,  23.7,  23.3,  22. ,  20.1,  22.2,\n",
      "        23.7,  17.6,  18.5,  24.3,  20.5,  24.5,  26.2,  24.4,  24.8,\n",
      "        29.6,  42.8,  21.9,  20.9,  44. ,  50. ,  36. ,  30.1,  33.8,\n",
      "        43.1,  48.8,  31. ,  36.5,  22.8,  30.7,  50. ,  43.5,  20.7,\n",
      "        21.1,  25.2,  24.4,  35.2,  32.4,  32. ,  33.2,  33.1,  29.1,\n",
      "        35.1,  45.4,  35.4,  46. ,  50. ,  32.2,  22. ,  20.1,  23.2,\n",
      "        22.3,  24.8,  28.5,  37.3,  27.9,  23.9,  21.7,  28.6,  27.1,\n",
      "        20.3,  22.5,  29. ,  24.8,  22. ,  26.4,  33.1,  36.1,  28.4,\n",
      "        33.4,  28.2,  22.8,  20.3,  16.1,  22.1,  19.4,  21.6,  23.8,\n",
      "        16.2,  17.8,  19.8,  23.1,  21. ,  23.8,  23.1,  20.4,  18.5,\n",
      "        25. ,  24.6,  23. ,  22.2,  19.3,  22.6,  19.8,  17.1,  19.4,\n",
      "        22.2,  20.7,  21.1,  19.5,  18.5,  20.6,  19. ,  18.7,  32.7,\n",
      "        16.5,  23.9,  31.2,  17.5,  17.2,  23.1,  24.5,  26.6,  22.9,\n",
      "        24.1,  18.6,  30.1,  18.2,  20.6,  17.8,  21.7,  22.7,  22.6,\n",
      "        25. ,  19.9,  20.8,  16.8,  21.9,  27.5,  21.9,  23.1,  50. ,\n",
      "        50. ,  50. ,  50. ,  50. ,  13.8,  13.8,  15. ,  13.9,  13.3,\n",
      "        13.1,  10.2,  10.4,  10.9,  11.3,  12.3,   8.8,   7.2,  10.5,\n",
      "         7.4,  10.2,  11.5,  15.1,  23.2,   9.7,  13.8,  12.7,  13.1,\n",
      "        12.5,   8.5,   5. ,   6.3,   5.6,   7.2,  12.1,   8.3,   8.5,\n",
      "         5. ,  11.9,  27.9,  17.2,  27.5,  15. ,  17.2,  17.9,  16.3,\n",
      "         7. ,   7.2,   7.5,  10.4,   8.8,   8.4,  16.7,  14.2,  20.8,\n",
      "        13.4,  11.7,   8.3,  10.2,  10.9,  11. ,   9.5,  14.5,  14.1,\n",
      "        16.1,  14.3,  11.7,  13.4,   9.6,   8.7,   8.4,  12.8,  10.5,\n",
      "        17.1,  18.4,  15.4,  10.8,  11.8,  14.9,  12.6,  14.1,  13. ,\n",
      "        13.4,  15.2,  16.1,  17.8,  14.9,  14.1,  12.7,  13.5,  14.9,\n",
      "        20. ,  16.4,  17.7,  19.5,  20.2,  21.4,  19.9,  19. ,  19.1,\n",
      "        19.1,  20.1,  19.9,  19.6,  23.2,  29.8,  13.8,  13.3,  16.7,\n",
      "        12. ,  14.6,  21.4,  23. ,  23.7,  25. ,  21.8,  20.6,  21.2,\n",
      "        19.1,  20.6,  15.2,   7. ,   8.1,  13.6,  20.1,  21.8,  24.5,\n",
      "        23.1,  19.7,  18.3,  21.2,  17.5,  16.8,  22.4,  20.6,  23.9,\n",
      "        22. ,  11.9]))\n",
      " house data shape: (506, 13)\n"
     ]
    }
   ],
   "source": [
    "#Load the experiment data：housing_scale.svm\n",
    "house_scale = load_svmlight_file('C:/Users/Administrator/Desktop/deep learning experients/housing_scale.svm')\n",
    "print('house data is: ', house_scale)\n",
    "print(' house data shape:', house_scale[0].shape)"
   ]
  },
  {
   "cell_type": "code",
   "execution_count": 3,
   "metadata": {},
   "outputs": [
    {
     "name": "stdout",
     "output_type": "stream",
     "text": [
      "train data is:   (0, 12)\t-0.584989\n",
      "  (0, 11)\t0.991326\n",
      "  (0, 10)\t-0.191489\n",
      "  (0, 9)\t-0.51145\n",
      "  (0, 8)\t-1.0\n",
      "  (0, 7)\t0.471451\n",
      "  (0, 6)\t-0.666323\n",
      "  (0, 5)\t-0.112857\n",
      "  (0, 4)\t-0.971193\n",
      "  (0, 3)\t-1.0\n",
      "  (0, 2)\t-0.766862\n",
      "  (0, 1)\t0.6\n",
      "  (0, 0)\t-0.999344\n",
      "  (1, 12)\t-0.921082\n",
      "  (1, 11)\t0.966715\n",
      "  (1, 10)\t-0.914894\n",
      "  (1, 9)\t-0.706107\n",
      "  (1, 8)\t-0.652174\n",
      "  (1, 7)\t-0.683111\n",
      "  (1, 6)\t0.0236869\n",
      "  (1, 5)\t0.497988\n",
      "  (1, 4)\t-0.218107\n",
      "  (1, 3)\t-1.0\n",
      "  (1, 2)\t-0.742669\n",
      "  (1, 1)\t-0.6\n",
      "  :\t:\n",
      "  (352, 11)\t0.993242\n",
      "  (352, 10)\t-0.106383\n",
      "  (352, 9)\t-0.78626\n",
      "  (352, 8)\t-0.73913\n",
      "  (352, 7)\t0.0339459\n",
      "  (352, 6)\t-0.118435\n",
      "  (352, 5)\t-0.0795171\n",
      "  (352, 4)\t-0.777778\n",
      "  (352, 3)\t-1.0\n",
      "  (352, 2)\t-0.620235\n",
      "  (352, 1)\t-0.58\n",
      "  (352, 0)\t-0.998147\n",
      "  (353, 12)\t-0.0827815\n",
      "  (353, 11)\t0.807706\n",
      "  (353, 10)\t0.787234\n",
      "  (353, 9)\t-0.541985\n",
      "  (353, 8)\t-0.73913\n",
      "  (353, 7)\t-0.516664\n",
      "  (353, 6)\t0.897013\n",
      "  (353, 5)\t-0.17992\n",
      "  (353, 4)\t-0.37037\n",
      "  (353, 3)\t-1.0\n",
      "  (353, 2)\t-0.43695\n",
      "  (353, 1)\t-1.0\n",
      "  (353, 0)\t-0.974252\n",
      "test data is:   (0, 12)\t-0.0833333\n",
      "  (0, 11)\t1.0\n",
      "  (0, 10)\t0.829787\n",
      "  (0, 9)\t-0.0458015\n",
      "  (0, 8)\t-0.73913\n",
      "  (0, 7)\t-0.845356\n",
      "  (0, 6)\t0.890834\n",
      "  (0, 5)\t-0.204445\n",
      "  (0, 4)\t-0.0164609\n",
      "  (0, 3)\t-1.0\n",
      "  (0, 2)\t0.571114\n",
      "  (0, 1)\t-1.0\n",
      "  (0, 0)\t-0.980332\n",
      "  (1, 12)\t-0.830022\n",
      "  (1, 11)\t0.995108\n",
      "  (1, 10)\t0.12766\n",
      "  (1, 9)\t-0.851145\n",
      "  (1, 8)\t-0.652174\n",
      "  (1, 7)\t0.376206\n",
      "  (1, 6)\t-0.608651\n",
      "  (1, 5)\t0.413298\n",
      "  (1, 4)\t-0.925926\n",
      "  (1, 3)\t-1.0\n",
      "  (1, 2)\t-0.944282\n",
      "  (1, 1)\t0.8\n",
      "  :\t:\n",
      "  (150, 11)\t0.933834\n",
      "  (150, 10)\t-0.148936\n",
      "  (150, 9)\t-0.568702\n",
      "  (150, 8)\t-0.565217\n",
      "  (150, 7)\t-0.0796861\n",
      "  (150, 6)\t-0.190525\n",
      "  (150, 5)\t0.16689\n",
      "  (150, 4)\t-0.823045\n",
      "  (150, 3)\t-1.0\n",
      "  (150, 2)\t-0.672287\n",
      "  (150, 1)\t-0.4\n",
      "  (150, 0)\t-0.998062\n",
      "  (151, 12)\t-0.533113\n",
      "  (151, 11)\t0.918755\n",
      "  (151, 10)\t0.617021\n",
      "  (151, 9)\t0.828244\n",
      "  (151, 8)\t1.0\n",
      "  (151, 7)\t-0.822859\n",
      "  (151, 6)\t0.92173\n",
      "  (151, 5)\t-0.309829\n",
      "  (151, 4)\t0.584362\n",
      "  (151, 3)\t-1.0\n",
      "  (151, 2)\t0.293255\n",
      "  (151, 1)\t-1.0\n",
      "  (151, 0)\t-0.917457\n"
     ]
    }
   ],
   "source": [
    "#Devide dataset. and train data size is 70%,the test data size is 30%\n",
    "a_train, a_test, b_train, b_test = train_test_split(house_scale[0], house_scale[1], train_size=0.7, test_size=0.3)\n",
    "print('train data is:', a_train)\n",
    "print('test data is:', a_test)"
   ]
  },
  {
   "cell_type": "code",
   "execution_count": 4,
   "metadata": {},
   "outputs": [
    {
     "name": "stdout",
     "output_type": "stream",
     "text": [
      "weight matrix shape: (13,)\n"
     ]
    }
   ],
   "source": [
    "#Initialize linear model parameters.weight matrix and bias term------w and b\n",
    "w = np.random.randn(a_train.shape[1])\n",
    "b = np.random.randn()\n",
    "\n",
    "print('weight matrix shape:', w.shape)"
   ]
  },
  {
   "cell_type": "code",
   "execution_count": 9,
   "metadata": {
    "collapsed": true
   },
   "outputs": [],
   "source": [
    "#Choose loss function and derivation  \n",
    "#Calculate gradient G toward loss function from all samples.\n",
    "#Denote the opposite direction of gradient  G as D .\n",
    "#Update model is learning rate, a hyper-parameter that we can adjust.\n",
    "#Get the loss function  under the training set and  by validating under validation set.\n",
    "\n",
    "# the number of iteration \n",
    "iteration_times = 200  \n",
    "# learning rate, gradient descent\n",
    "n = 1\n",
    "# train loss value\n",
    "train_total_loss = []\n",
    "# test loss value\n",
    "test_total_loss = []    \n",
    "for i in range(iteration_times):\n",
    "    # w * b's shape is equal to b's shape\n",
    "    b_pred = a_train*w + b\n",
    "    # square loss function of train data\n",
    "    loss_train = 0.5*np.linalg.norm(b_pred - b_train)   \n",
    "    b_test_pred = a_test*w + b\n",
    "    # square loss function of test data\n",
    "    loss_test = 0.5*np.linalg.norm(b_test_pred - b_test)    \n",
    "    train_total_loss.append(loss_train)  \n",
    "     # add list\n",
    "    test_total_loss.append(loss_test)\n",
    "    # update w and b\n",
    "    w = w - n*(b_pred - b_train)*a_train/a_train.shape[0]\n",
    "    b = b - n*np.mean(b_pred - b_train)"
   ]
  },
  {
   "cell_type": "code",
   "execution_count": 10,
   "metadata": {},
   "outputs": [
    {
     "data": {
      "image/png": "[encoded data removed]",
      "text/plain": [
       "<matplotlib.figure.Figure at 0x1bce9140748>"
      ]
     },
     "metadata": {},
     "output_type": "display_data"
    }
   ],
   "source": [
    "#drawing graph of  L_train as well as L_validation with the number of iterations.\n",
    "\n",
    "plt.figure()\n",
    "plt.title('drawing graph of  L_train as well as L_validation with the number of iterations In house data')\n",
    "plt.plot(range(len(train_total_loss)), train_total_loss, color='b', label='L_train loss')\n",
    "\n",
    "plt.plot(range(len(test_total_loss)), test_total_loss, color='r', label='L_validation loss')\n",
    "plt.xlabel('iteration times')\n",
    "plt.ylabel('loss value')\n",
    "plt.legend()\n",
    "plt.show()"
   ]
  },
  {
   "cell_type": "code",
   "execution_count": null,
   "metadata": {
    "collapsed": true
   },
   "outputs": [],
   "source": []
  }
 ],
 "metadata": {
  "kernelspec": {
   "display_name": "Python 3",
   "language": "python",
   "name": "python3"
  },
  "language_info": {
   "codemirror_mode": {
    "name": "ipython",
    "version": 3
   },
   "file_extension": ".py",
   "mimetype": "text/x-python",
   "name": "python",
   "nbconvert_exporter": "python",
   "pygments_lexer": "ipython3",
   "version": "3.6.1"
  }
 },
 "nbformat": 4,
 "nbformat_minor": 2
}
