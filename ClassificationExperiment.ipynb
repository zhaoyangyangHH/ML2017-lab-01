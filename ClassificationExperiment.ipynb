{
 "cells": [
  {
   "cell_type": "code",
   "execution_count": 1,
   "metadata": {
    "collapsed": true
   },
   "outputs": [],
   "source": [
    "#Improt\n",
    "\n",
    "from sklearn.externals.joblib import Memory\n",
    "from sklearn.datasets import load_svmlight_file\n",
    "import matplotlib.pyplot as plt\n",
    "import numpy as np\n",
    "from sklearn.model_selection import train_test_split"
   ]
  },
  {
   "cell_type": "code",
   "execution_count": 3,
   "metadata": {},
   "outputs": [
    {
     "name": "stdout",
     "output_type": "stream",
     "text": [
      "australian data is: (<690x14 sparse matrix of type '<class 'numpy.float64'>'\n",
      "\twith 8447 stored elements in Compressed Sparse Row format>, array([-1., -1., -1.,  1.,  1.,  1., -1.,  1., -1., -1.,  1.,  1., -1.,\n",
      "        1., -1.,  1.,  1.,  1., -1.,  1., -1., -1., -1., -1., -1.,  1.,\n",
      "       -1.,  1.,  1.,  1.,  1., -1., -1.,  1., -1., -1.,  1.,  1.,  1.,\n",
      "        1.,  1., -1.,  1., -1., -1.,  1., -1.,  1., -1.,  1., -1., -1.,\n",
      "       -1., -1., -1.,  1.,  1., -1.,  1.,  1., -1., -1.,  1., -1.,  1.,\n",
      "        1., -1., -1., -1.,  1., -1., -1., -1.,  1.,  1., -1., -1., -1.,\n",
      "       -1.,  1.,  1., -1., -1., -1., -1.,  1., -1.,  1.,  1., -1., -1.,\n",
      "       -1., -1.,  1., -1.,  1., -1., -1., -1.,  1., -1.,  1.,  1.,  1.,\n",
      "       -1.,  1.,  1., -1.,  1., -1., -1., -1., -1.,  1., -1.,  1.,  1.,\n",
      "        1.,  1.,  1.,  1., -1., -1.,  1.,  1., -1.,  1., -1.,  1.,  1.,\n",
      "        1., -1., -1., -1., -1., -1., -1.,  1.,  1.,  1., -1., -1., -1.,\n",
      "        1., -1.,  1.,  1., -1., -1.,  1.,  1., -1., -1., -1.,  1.,  1.,\n",
      "        1., -1.,  1., -1., -1., -1.,  1.,  1., -1., -1., -1.,  1., -1.,\n",
      "       -1., -1.,  1., -1., -1.,  1., -1., -1., -1.,  1.,  1., -1., -1.,\n",
      "        1.,  1.,  1., -1., -1., -1., -1., -1., -1.,  1., -1., -1., -1.,\n",
      "        1.,  1., -1., -1., -1.,  1., -1.,  1., -1.,  1.,  1., -1., -1.,\n",
      "       -1., -1.,  1.,  1., -1., -1., -1.,  1., -1., -1., -1.,  1.,  1.,\n",
      "       -1.,  1., -1., -1., -1., -1.,  1.,  1.,  1.,  1., -1., -1.,  1.,\n",
      "        1.,  1., -1., -1., -1.,  1.,  1.,  1.,  1., -1., -1., -1., -1.,\n",
      "        1.,  1.,  1., -1., -1.,  1., -1.,  1.,  1.,  1.,  1., -1., -1.,\n",
      "       -1.,  1., -1.,  1.,  1., -1., -1.,  1., -1., -1., -1.,  1., -1.,\n",
      "        1.,  1., -1., -1., -1.,  1.,  1., -1., -1., -1., -1., -1.,  1.,\n",
      "        1.,  1., -1., -1., -1., -1.,  1.,  1.,  1., -1., -1., -1.,  1.,\n",
      "       -1.,  1., -1., -1., -1., -1.,  1., -1.,  1., -1., -1., -1., -1.,\n",
      "       -1.,  1.,  1., -1., -1.,  1., -1.,  1.,  1.,  1.,  1.,  1.,  1.,\n",
      "        1., -1., -1., -1., -1.,  1.,  1.,  1., -1., -1., -1.,  1., -1.,\n",
      "        1., -1., -1., -1.,  1.,  1.,  1.,  1.,  1.,  1.,  1., -1.,  1.,\n",
      "       -1.,  1., -1., -1., -1., -1., -1.,  1., -1.,  1.,  1., -1., -1.,\n",
      "       -1., -1., -1.,  1., -1.,  1.,  1., -1., -1., -1.,  1.,  1.,  1.,\n",
      "       -1., -1.,  1.,  1., -1., -1., -1.,  1.,  1., -1.,  1.,  1.,  1.,\n",
      "        1., -1., -1.,  1.,  1., -1., -1., -1., -1., -1., -1.,  1., -1.,\n",
      "       -1., -1.,  1.,  1., -1.,  1., -1., -1., -1.,  1.,  1.,  1., -1.,\n",
      "       -1.,  1., -1.,  1.,  1.,  1., -1.,  1., -1., -1.,  1., -1., -1.,\n",
      "       -1.,  1., -1., -1.,  1., -1.,  1., -1.,  1.,  1., -1.,  1., -1.,\n",
      "       -1.,  1., -1.,  1.,  1., -1., -1., -1., -1., -1.,  1.,  1., -1.,\n",
      "       -1.,  1.,  1., -1.,  1., -1.,  1., -1.,  1., -1.,  1.,  1., -1.,\n",
      "        1., -1.,  1.,  1.,  1., -1., -1., -1., -1., -1.,  1., -1.,  1.,\n",
      "       -1., -1., -1.,  1.,  1.,  1.,  1.,  1., -1.,  1.,  1., -1., -1.,\n",
      "       -1.,  1.,  1.,  1.,  1.,  1.,  1., -1.,  1.,  1.,  1.,  1., -1.,\n",
      "       -1., -1., -1., -1., -1., -1.,  1., -1., -1.,  1.,  1.,  1., -1.,\n",
      "        1., -1., -1.,  1.,  1., -1.,  1., -1., -1., -1., -1., -1., -1.,\n",
      "        1., -1.,  1., -1.,  1.,  1.,  1., -1., -1.,  1., -1., -1., -1.,\n",
      "       -1., -1., -1., -1.,  1.,  1., -1., -1., -1., -1., -1.,  1., -1.,\n",
      "        1., -1.,  1., -1., -1.,  1.,  1.,  1., -1., -1., -1., -1., -1.,\n",
      "        1., -1.,  1.,  1., -1., -1., -1., -1., -1.,  1.,  1.,  1., -1.,\n",
      "        1., -1.,  1.,  1., -1., -1.,  1., -1.,  1., -1., -1.,  1.,  1.,\n",
      "       -1.,  1., -1.,  1.,  1.,  1.,  1., -1., -1.,  1., -1.,  1.,  1.,\n",
      "       -1.,  1., -1.,  1.,  1., -1., -1., -1.,  1., -1.,  1.,  1., -1.,\n",
      "        1., -1., -1., -1., -1., -1.,  1., -1.,  1., -1., -1., -1., -1.,\n",
      "       -1., -1.,  1., -1.,  1.,  1., -1., -1., -1., -1., -1., -1.,  1.,\n",
      "        1., -1., -1.,  1., -1., -1.,  1., -1., -1.,  1.,  1., -1.,  1.,\n",
      "        1., -1., -1., -1., -1., -1., -1.,  1.,  1., -1.,  1.,  1., -1.,\n",
      "       -1., -1., -1.,  1., -1., -1.,  1., -1.,  1.,  1., -1.,  1.,  1.,  1.]))\n",
      " australian data shape: (690, 14)\n"
     ]
    }
   ],
   "source": [
    "#Linear Classification and Gradient Descent\n",
    "\n",
    "australian_scale = load_svmlight_file('C:/Users/Administrator/Desktop/deep learning experients/australian_scale.svm')\n",
    "print('australian data is:', australian_scale)\n",
    "print(' australian data shape:', australian_scale[0].shape)"
   ]
  },
  {
   "cell_type": "code",
   "execution_count": 4,
   "metadata": {},
   "outputs": [
    {
     "name": "stdout",
     "output_type": "stream",
     "text": [
      "train data is:   (0, 13)\t-0.96592\n",
      "  (0, 12)\t-0.481\n",
      "  (0, 10)\t1.0\n",
      "  (0, 9)\t-0.940299\n",
      "  (0, 8)\t1.0\n",
      "  (0, 7)\t1.0\n",
      "  (0, 6)\t-0.0263158\n",
      "  (0, 5)\t-0.25\n",
      "  (0, 4)\t1.0\n",
      "  (0, 2)\t-0.785714\n",
      "  (0, 1)\t0.0126315\n",
      "  (0, 0)\t-1.0\n",
      "  (1, 13)\t-0.99994\n",
      "  (1, 12)\t-0.826\n",
      "  (1, 10)\t1.0\n",
      "  (1, 9)\t-0.940299\n",
      "  (1, 8)\t1.0\n",
      "  (1, 7)\t-1.0\n",
      "  (1, 6)\t-0.973684\n",
      "  (1, 5)\t-0.25\n",
      "  (1, 4)\t-0.538462\n",
      "  (1, 2)\t-0.9375\n",
      "  (1, 1)\t-0.633985\n",
      "  (1, 0)\t1.0\n",
      "  (2, 13)\t-1.0\n",
      "  :\t:\n",
      "  (480, 13)\t-0.9\n",
      "  (480, 12)\t-1.0\n",
      "  (480, 10)\t-1.0\n",
      "  (480, 9)\t-0.940299\n",
      "  (480, 8)\t1.0\n",
      "  (480, 7)\t1.0\n",
      "  (480, 6)\t-0.649123\n",
      "  (480, 5)\t0.75\n",
      "  (480, 4)\t0.538462\n",
      "  (480, 2)\t-0.0357143\n",
      "  (480, 1)\t-0.60391\n",
      "  (480, 0)\t-1.0\n",
      "  (481, 13)\t-0.99998\n",
      "  (481, 12)\t-0.84\n",
      "  (481, 10)\t1.0\n",
      "  (481, 9)\t-0.761194\n",
      "  (481, 8)\t1.0\n",
      "  (481, 7)\t1.0\n",
      "  (481, 6)\t-0.92386\n",
      "  (481, 5)\t-0.25\n",
      "  (481, 4)\t-0.846154\n",
      "  (481, 3)\t-1.0\n",
      "  (481, 2)\t-0.785714\n",
      "  (481, 1)\t-0.781955\n",
      "  (481, 0)\t1.0\n",
      "test data is:   (0, 13)\t-0.88896\n",
      "  (0, 12)\t-1.0\n",
      "  (0, 10)\t-1.0\n",
      "  (0, 9)\t-0.940299\n",
      "  (0, 8)\t1.0\n",
      "  (0, 7)\t-1.0\n",
      "  (0, 6)\t-0.991228\n",
      "  (0, 5)\t-0.25\n",
      "  (0, 4)\t0.0769231\n",
      "  (0, 2)\t-0.0982143\n",
      "  (0, 1)\t-0.714286\n",
      "  (0, 0)\t1.0\n",
      "  (1, 13)\t-1.0\n",
      "  (1, 12)\t-1.0\n",
      "  (1, 10)\t1.0\n",
      "  (1, 9)\t-1.0\n",
      "  (1, 8)\t-1.0\n",
      "  (1, 7)\t1.0\n",
      "  (1, 6)\t-0.403509\n",
      "  (1, 5)\t0.75\n",
      "  (1, 4)\t-0.538462\n",
      "  (1, 2)\t-0.0296429\n",
      "  (1, 1)\t0.0851128\n",
      "  (1, 0)\t-1.0\n",
      "  (2, 13)\t-1.0\n",
      "  :\t:\n",
      "  (204, 0)\t1.0\n",
      "  (205, 13)\t-0.99112\n",
      "  (205, 12)\t-0.728\n",
      "  (205, 10)\t-1.0\n",
      "  (205, 9)\t-0.970149\n",
      "  (205, 8)\t1.0\n",
      "  (205, 7)\t-1.0\n",
      "  (205, 6)\t-0.988421\n",
      "  (205, 5)\t-0.25\n",
      "  (205, 4)\t0.230769\n",
      "  (205, 2)\t-0.961429\n",
      "  (205, 1)\t-0.649023\n",
      "  (205, 0)\t1.0\n",
      "  (206, 13)\t-0.9992\n",
      "  (206, 12)\t-0.8\n",
      "  (206, 10)\t-1.0\n",
      "  (206, 9)\t-1.0\n",
      "  (206, 8)\t-1.0\n",
      "  (206, 7)\t-1.0\n",
      "  (206, 6)\t-0.985263\n",
      "  (206, 5)\t0.5\n",
      "  (206, 4)\t0.538462\n",
      "  (206, 2)\t-0.988214\n",
      "  (206, 1)\t-0.87218\n",
      "  (206, 0)\t1.0\n"
     ]
    }
   ],
   "source": [
    "#Devide dataset. and train data size is 70%,the test data size is 30%\n",
    "a_train, a_test, b_train, b_test = train_test_split(australian_scale[0],australian_scale[1], train_size=0.7, test_size=0.3)\n",
    "print('train data is:', a_train)\n",
    "print('test data is:', a_test)"
   ]
  },
  {
   "cell_type": "code",
   "execution_count": 5,
   "metadata": {},
   "outputs": [
    {
     "name": "stdout",
     "output_type": "stream",
     "text": [
      "weight matrix shape: (14,)\n"
     ]
    }
   ],
   "source": [
    "#Initialize SVM model parameters. You can choose to set all parameter into zero, initialize it randomly or with normal distribution.\n",
    "#Initialize linear model parameters.weight matrix and bias term------w and b\n",
    "\n",
    "w = np.random.randn(a_train.shape[1])\n",
    "b = np.random.randn()\n",
    "print('weight matrix shape:', w.shape)"
   ]
  },
  {
   "cell_type": "code",
   "execution_count": 6,
   "metadata": {
    "collapsed": true
   },
   "outputs": [],
   "source": [
    "#Choose loss function and derivation  \n",
    "#Calculate gradient G toward loss function from all samples.\n",
    "#Denote the opposite direction of gradient  G as D .\n",
    "#Update model is learning rate, a hyper-parameter that we can adjust.\n",
    "#Get the loss function  under the training set and  by validating under validation set.\n",
    "iteration_times = 100\n",
    "lamb = 0.1 \n",
    " # train loss value\n",
    "train_total_loss = []  \n",
    "# test loss value\n",
    "test_total_loss = []    \n",
    "for i in range(iteration_times):\n",
    "    hinge_temp = 1 - b_train*(a_train*w + b)\n",
    "    hinge_temp[hinge_temp < 0] = 0\n",
    "     # hinge loss function of train data\n",
    "    loss_train = np.sum(hinge_temp) + 0.5*lamb*np.linalg.norm(w)   \n",
    "    \n",
    "    hinge_temp = 1 - b_test*(a_test*w + b)\n",
    "    hinge_temp[hinge_temp < 0] = 0\n",
    "     # hinge loss function of test data\n",
    "    loss_test = np.sum(hinge_temp) + 0.5*lamb*np.linalg.norm(w)   \n",
    "\n",
    "    train_total_loss.append(loss_train)   \n",
    "     # add list\n",
    "    test_total_loss.append(loss_test)\n",
    "            \n",
    "    # update w and b\n",
    "    # w_delta = alpha*y_train*x_train\n",
    "    for j in range(a_train.shape[0]):\n",
    "        if b_train[j]*(a_train[j]*w + b) < 1:\n",
    "            w = w + (lamb*b_train[j]*a_train[j]).toarray()[0]\n",
    "            b = b + lamb*b_train[j] "
   ]
  },
  {
   "cell_type": "code",
   "execution_count": 7,
   "metadata": {},
   "outputs": [
    {
     "data": {
      "image/png": "[encoded data removed]",
      "text/plain": [
       "<matplotlib.figure.Figure at 0x247d8770e10>"
      ]
     },
     "metadata": {},
     "output_type": "display_data"
    }
   ],
   "source": [
    "#drawing graph of  L_train as well as L_validation with the number of iterations.\n",
    "\n",
    "plt.figure()\n",
    "plt.title('rawing graph of  L_train as well as L_validation with the number of iterations.In  australian data')\n",
    "plt.plot(range(len(train_total_loss)), train_total_loss, color='b', label='train loss')\n",
    "\n",
    "plt.plot(range(len(test_total_loss)), test_total_loss, color='r', label='validation loss')\n",
    "plt.xlabel('iteration times')\n",
    "plt.ylabel('loss value')\n",
    "plt.legend()\n",
    "plt.show()"
   ]
  },
  {
   "cell_type": "code",
   "execution_count": null,
   "metadata": {
    "collapsed": true
   },
   "outputs": [],
   "source": []
  }
 ],
 "metadata": {
  "kernelspec": {
   "display_name": "Python 3",
   "language": "python",
   "name": "python3"
  },
  "language_info": {
   "codemirror_mode": {
    "name": "ipython",
    "version": 3
   },
   "file_extension": ".py",
   "mimetype": "text/x-python",
   "name": "python",
   "nbconvert_exporter": "python",
   "pygments_lexer": "ipython3",
   "version": "3.6.1"
  }
 },
 "nbformat": 4,
 "nbformat_minor": 2
}
